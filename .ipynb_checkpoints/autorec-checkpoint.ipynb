{
 "cells": [
  {
   "cell_type": "code",
   "execution_count": 1,
   "metadata": {},
   "outputs": [],
   "source": [
    "import mxnet as mx\n",
    "from mxnet import gluon\n",
    "from mxnet.gluon import nn"
   ]
  },
  {
   "cell_type": "code",
   "execution_count": 2,
   "metadata": {},
   "outputs": [],
   "source": [
    "ctx = mx.gpu()"
   ]
  },
  {
   "cell_type": "code",
   "execution_count": 3,
   "metadata": {},
   "outputs": [],
   "source": [
    "class AutoRec(nn.HybridBlock):\n",
    "    def __init__(self, layerwise_dims, dropout_prob=0, verbose=False, **kwargs):\n",
    "        super(AutoRec, self).__init__(**kwargs)\n",
    "        self.verbose = verbose\n",
    "        with self.name_scope():\n",
    "            self.user_embedding = nn.Embedding(input_dim=n_users, output_dim=100)\n",
    "            self.movie_embedding = nn.Embedding(input_dim=n_movies, output_dim=100)\n",
    "            \n",
    "        self.encoder = nn.HybridSequential()\n",
    "        with self.encoder.name_scope():\n",
    "            for num_units in layerwise_dims:\n",
    "                self.encoder.add(nn.Dense(num_units, activation='relu'))\n",
    "            self.encoder.add(nn.Dropout(dropout_prob))\n",
    "            \n",
    "        self.decoder = nn.HybridSequential()\n",
    "        with self.decoder.name_scope():\n",
    "            for ind, num_units in enumerate(list(reversed(layerwise_dims))[1:]):\n",
    "                self.decoder.add(nn.Dense(num_units, activation='relu'))\n",
    "        \n",
    "        if self.verbose:\n",
    "            print('-' * 60)\n",
    "            print('Network Archs: ')\n",
    "            print('\\nEncoder')\n",
    "            print(self.encoder)\n",
    "            print('\\nDecoder')\n",
    "            print(self.decoder)\n",
    "            print('-' * 60)\n",
    "    \n",
    "    def hybrid_forward(self, F, user, movie):\n",
    "        # concat & flatten input for autoencoder\n",
    "        concat = F.concat(user, movie)\n",
    "        flat = F.flatten(concat)\n",
    "        \n",
    "        # forward pass\n",
    "        return self.decoder(self.encoder(flat))"
   ]
  },
  {
   "cell_type": "code",
   "execution_count": 4,
   "metadata": {},
   "outputs": [
    {
     "name": "stdout",
     "output_type": "stream",
     "text": [
      "------------------------------------------------------------\n",
      "Network Archs: \n",
      "\n",
      "Encoder\n",
      "HybridSequential(\n",
      "  (0): Dense(None -> 1024, Activation(relu))\n",
      "  (1): Dense(None -> 512, Activation(relu))\n",
      "  (2): Dense(None -> 128, Activation(relu))\n",
      "  (3): Dense(None -> 64, Activation(relu))\n",
      "  (4): Dropout(p = 0.5)\n",
      ")\n",
      "\n",
      "Decoder\n",
      "HybridSequential(\n",
      "  (0): Dense(None -> 128, Activation(relu))\n",
      "  (1): Dense(None -> 512, Activation(relu))\n",
      "  (2): Dense(None -> 1024, Activation(relu))\n",
      ")\n",
      "------------------------------------------------------------\n"
     ]
    },
    {
     "data": {
      "text/plain": [
       "\n",
       "[[ 0.          0.00169634  0.00377089 ...,  0.00121543  0.          0.00138937]\n",
       " [ 0.          0.00016627  0.00216765 ...,  0.00034967  0.          0.00186136]\n",
       " [ 0.          0.00170166  0.0015621  ...,  0.00245271  0.          0.00114533]\n",
       " [ 0.          0.          0.00282252 ...,  0.00157228  0.          0.0016281 ]]\n",
       "<NDArray 4x1024 @cpu(0)>"
      ]
     },
     "execution_count": 4,
     "metadata": {},
     "output_type": "execute_result"
    }
   ],
   "source": [
    "# input\n",
    "n_users = 100\n",
    "n_movies = 100\n",
    "user = mx.nd.random.uniform(shape=(4, n_users))\n",
    "movie = mx.nd.random.uniform(shape=(4, n_movies))\n",
    "\n",
    "# layer params\n",
    "layers = [1024, 512, 128, 64]\n",
    "\n",
    "# network\n",
    "autorec = AutoRec(layers, dropout_prob=.5, verbose=True)\n",
    "autorec.initialize()\n",
    "autorec(user, movie)"
   ]
  },
  {
   "cell_type": "code",
   "execution_count": null,
   "metadata": {},
   "outputs": [],
   "source": []
  }
 ],
 "metadata": {
  "kernelspec": {
   "display_name": "Python 3",
   "language": "python",
   "name": "python3"
  },
  "language_info": {
   "codemirror_mode": {
    "name": "ipython",
    "version": 3
   },
   "file_extension": ".py",
   "mimetype": "text/x-python",
   "name": "python",
   "nbconvert_exporter": "python",
   "pygments_lexer": "ipython3",
   "version": "3.6.3"
  }
 },
 "nbformat": 4,
 "nbformat_minor": 2
}
